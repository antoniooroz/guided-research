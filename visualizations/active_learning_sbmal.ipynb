{
 "cells": [
  {
   "cell_type": "code",
   "execution_count": 4,
   "metadata": {},
   "outputs": [
    {
     "name": "stderr",
     "output_type": "stream",
     "text": [
      "\u001b[34m\u001b[1mwandb\u001b[0m: \u001b[33mWARNING\u001b[0m Run.username is deprecated. Please use Run.entity instead.\n",
      "wandb: WARNING A graphql request initiated by the public wandb API timed out (timeout=9 sec). Create a new API with an integer timeout larger than 9, e.g., `api = wandb.Api(timeout=19)` to increase the graphql timeout.\n",
      "wandb: WARNING A graphql request initiated by the public wandb API timed out (timeout=9 sec). Create a new API with an integer timeout larger than 9, e.g., `api = wandb.Api(timeout=19)` to increase the graphql timeout.\n"
     ]
    },
    {
     "ename": "KeyError",
     "evalue": "'FIXED'",
     "output_type": "error",
     "traceback": [
      "\u001b[0;31m---------------------------------------------------------------------------\u001b[0m",
      "\u001b[0;31mKeyError\u001b[0m                                  Traceback (most recent call last)",
      "\u001b[1;32m/home/antonio/projects/gr/guided-research/visualizations/active_learning_sbmal.ipynb Cell 1\u001b[0m in \u001b[0;36m<cell line: 35>\u001b[0;34m()\u001b[0m\n\u001b[1;32m     <a href='vscode-notebook-cell://ssh-remote%2B7b22686f73744e616d65223a22416e746f6e696f732d5562756e74752e6c6f63616c227d/home/antonio/projects/gr/guided-research/visualizations/active_learning_sbmal.ipynb#W0sdnNjb2RlLXJlbW90ZQ%3D%3D?line=46'>47</a>\u001b[0m keys2 \u001b[39m=\u001b[39m {\n\u001b[1;32m     <a href='vscode-notebook-cell://ssh-remote%2B7b22686f73744e616d65223a22416e746f6e696f732d5562756e74752e6c6f63616c227d/home/antonio/projects/gr/guided-research/visualizations/active_learning_sbmal.ipynb#W0sdnNjb2RlLXJlbW90ZQ%3D%3D?line=47'>48</a>\u001b[0m     \u001b[39m'\u001b[39m\u001b[39mALEATORIC\u001b[39m\u001b[39m'\u001b[39m: \u001b[39m10\u001b[39m,\n\u001b[1;32m     <a href='vscode-notebook-cell://ssh-remote%2B7b22686f73744e616d65223a22416e746f6e696f732d5562756e74752e6c6f63616c227d/home/antonio/projects/gr/guided-research/visualizations/active_learning_sbmal.ipynb#W0sdnNjb2RlLXJlbW90ZQ%3D%3D?line=48'>49</a>\u001b[0m     \u001b[39m'\u001b[39m\u001b[39mEPISTEMIC\u001b[39m\u001b[39m'\u001b[39m: \u001b[39m20\u001b[39m\n\u001b[1;32m     <a href='vscode-notebook-cell://ssh-remote%2B7b22686f73744e616d65223a22416e746f6e696f732d5562756e74752e6c6f63616c227d/home/antonio/projects/gr/guided-research/visualizations/active_learning_sbmal.ipynb#W0sdnNjb2RlLXJlbW90ZQ%3D%3D?line=49'>50</a>\u001b[0m }\n\u001b[1;32m     <a href='vscode-notebook-cell://ssh-remote%2B7b22686f73744e616d65223a22416e746f6e696f732d5562756e74752e6c6f63616c227d/home/antonio/projects/gr/guided-research/visualizations/active_learning_sbmal.ipynb#W0sdnNjb2RlLXJlbW90ZQ%3D%3D?line=51'>52</a>\u001b[0m keys3 \u001b[39m=\u001b[39m {\n\u001b[1;32m     <a href='vscode-notebook-cell://ssh-remote%2B7b22686f73744e616d65223a22416e746f6e696f732d5562756e74752e6c6f63616c227d/home/antonio/projects/gr/guided-research/visualizations/active_learning_sbmal.ipynb#W0sdnNjb2RlLXJlbW90ZQ%3D%3D?line=52'>53</a>\u001b[0m     \u001b[39m'\u001b[39m\u001b[39mISOLATED\u001b[39m\u001b[39m'\u001b[39m: \u001b[39m1\u001b[39m,\n\u001b[1;32m     <a href='vscode-notebook-cell://ssh-remote%2B7b22686f73744e616d65223a22416e746f6e696f732d5562756e74752e6c6f63616c227d/home/antonio/projects/gr/guided-research/visualizations/active_learning_sbmal.ipynb#W0sdnNjb2RlLXJlbW90ZQ%3D%3D?line=53'>54</a>\u001b[0m     \u001b[39m'\u001b[39m\u001b[39mPROPAGATED\u001b[39m\u001b[39m'\u001b[39m: \u001b[39m2\u001b[39m\n\u001b[1;32m     <a href='vscode-notebook-cell://ssh-remote%2B7b22686f73744e616d65223a22416e746f6e696f732d5562756e74752e6c6f63616c227d/home/antonio/projects/gr/guided-research/visualizations/active_learning_sbmal.ipynb#W0sdnNjb2RlLXJlbW90ZQ%3D%3D?line=54'>55</a>\u001b[0m }\n\u001b[0;32m---> <a href='vscode-notebook-cell://ssh-remote%2B7b22686f73744e616d65223a22416e746f6e696f732d5562756e74752e6c6f63616c227d/home/antonio/projects/gr/guided-research/visualizations/active_learning_sbmal.ipynb#W0sdnNjb2RlLXJlbW90ZQ%3D%3D?line=56'>57</a>\u001b[0m runs\u001b[39m.\u001b[39;49msort(key\u001b[39m=\u001b[39;49m\u001b[39mlambda\u001b[39;49;00m x: \n\u001b[1;32m     <a href='vscode-notebook-cell://ssh-remote%2B7b22686f73744e616d65223a22416e746f6e696f732d5562756e74752e6c6f63616c227d/home/antonio/projects/gr/guided-research/visualizations/active_learning_sbmal.ipynb#W0sdnNjb2RlLXJlbW90ZQ%3D%3D?line=57'>58</a>\u001b[0m     keys[afterPoint(x\u001b[39m.\u001b[39;49mconfig[\u001b[39m\"\u001b[39;49m\u001b[39mexperiment/active_learning_selector\u001b[39;49m\u001b[39m\"\u001b[39;49m])] \u001b[39m+\u001b[39;49m keys2[afterPoint(x\u001b[39m.\u001b[39;49mconfig[\u001b[39m'\u001b[39;49m\u001b[39mexperiment/active_learning_selector_uncertainty_mode\u001b[39;49m\u001b[39m'\u001b[39;49m])] \u001b[39m+\u001b[39;49m keys3[afterPoint(x\u001b[39m.\u001b[39;49mconfig[\u001b[39m'\u001b[39;49m\u001b[39mexperiment/active_learning_selector_network_mode\u001b[39;49m\u001b[39m'\u001b[39;49m])]\n\u001b[1;32m     <a href='vscode-notebook-cell://ssh-remote%2B7b22686f73744e616d65223a22416e746f6e696f732d5562756e74752e6c6f63616c227d/home/antonio/projects/gr/guided-research/visualizations/active_learning_sbmal.ipynb#W0sdnNjb2RlLXJlbW90ZQ%3D%3D?line=58'>59</a>\u001b[0m )\n\u001b[1;32m     <a href='vscode-notebook-cell://ssh-remote%2B7b22686f73744e616d65223a22416e746f6e696f732d5562756e74752e6c6f63616c227d/home/antonio/projects/gr/guided-research/visualizations/active_learning_sbmal.ipynb#W0sdnNjb2RlLXJlbW90ZQ%3D%3D?line=60'>61</a>\u001b[0m \u001b[39mfor\u001b[39;00m run \u001b[39min\u001b[39;00m runs:\n\u001b[1;32m     <a href='vscode-notebook-cell://ssh-remote%2B7b22686f73744e616d65223a22416e746f6e696f732d5562756e74752e6c6f63616c227d/home/antonio/projects/gr/guided-research/visualizations/active_learning_sbmal.ipynb#W0sdnNjb2RlLXJlbW90ZQ%3D%3D?line=61'>62</a>\u001b[0m     accuracy \u001b[39m=\u001b[39m run\u001b[39m.\u001b[39msummary[\u001b[39m\"\u001b[39m\u001b[39mmean/eval/VALTEST/PROPAGATED/accuracy\u001b[39m\u001b[39m\"\u001b[39m]\u001b[39m*\u001b[39m\u001b[39m100\u001b[39m\n",
      "\u001b[1;32m/home/antonio/projects/gr/guided-research/visualizations/active_learning_sbmal.ipynb Cell 1\u001b[0m in \u001b[0;36m<lambda>\u001b[0;34m(x)\u001b[0m\n\u001b[1;32m     <a href='vscode-notebook-cell://ssh-remote%2B7b22686f73744e616d65223a22416e746f6e696f732d5562756e74752e6c6f63616c227d/home/antonio/projects/gr/guided-research/visualizations/active_learning_sbmal.ipynb#W0sdnNjb2RlLXJlbW90ZQ%3D%3D?line=46'>47</a>\u001b[0m keys2 \u001b[39m=\u001b[39m {\n\u001b[1;32m     <a href='vscode-notebook-cell://ssh-remote%2B7b22686f73744e616d65223a22416e746f6e696f732d5562756e74752e6c6f63616c227d/home/antonio/projects/gr/guided-research/visualizations/active_learning_sbmal.ipynb#W0sdnNjb2RlLXJlbW90ZQ%3D%3D?line=47'>48</a>\u001b[0m     \u001b[39m'\u001b[39m\u001b[39mALEATORIC\u001b[39m\u001b[39m'\u001b[39m: \u001b[39m10\u001b[39m,\n\u001b[1;32m     <a href='vscode-notebook-cell://ssh-remote%2B7b22686f73744e616d65223a22416e746f6e696f732d5562756e74752e6c6f63616c227d/home/antonio/projects/gr/guided-research/visualizations/active_learning_sbmal.ipynb#W0sdnNjb2RlLXJlbW90ZQ%3D%3D?line=48'>49</a>\u001b[0m     \u001b[39m'\u001b[39m\u001b[39mEPISTEMIC\u001b[39m\u001b[39m'\u001b[39m: \u001b[39m20\u001b[39m\n\u001b[1;32m     <a href='vscode-notebook-cell://ssh-remote%2B7b22686f73744e616d65223a22416e746f6e696f732d5562756e74752e6c6f63616c227d/home/antonio/projects/gr/guided-research/visualizations/active_learning_sbmal.ipynb#W0sdnNjb2RlLXJlbW90ZQ%3D%3D?line=49'>50</a>\u001b[0m }\n\u001b[1;32m     <a href='vscode-notebook-cell://ssh-remote%2B7b22686f73744e616d65223a22416e746f6e696f732d5562756e74752e6c6f63616c227d/home/antonio/projects/gr/guided-research/visualizations/active_learning_sbmal.ipynb#W0sdnNjb2RlLXJlbW90ZQ%3D%3D?line=51'>52</a>\u001b[0m keys3 \u001b[39m=\u001b[39m {\n\u001b[1;32m     <a href='vscode-notebook-cell://ssh-remote%2B7b22686f73744e616d65223a22416e746f6e696f732d5562756e74752e6c6f63616c227d/home/antonio/projects/gr/guided-research/visualizations/active_learning_sbmal.ipynb#W0sdnNjb2RlLXJlbW90ZQ%3D%3D?line=52'>53</a>\u001b[0m     \u001b[39m'\u001b[39m\u001b[39mISOLATED\u001b[39m\u001b[39m'\u001b[39m: \u001b[39m1\u001b[39m,\n\u001b[1;32m     <a href='vscode-notebook-cell://ssh-remote%2B7b22686f73744e616d65223a22416e746f6e696f732d5562756e74752e6c6f63616c227d/home/antonio/projects/gr/guided-research/visualizations/active_learning_sbmal.ipynb#W0sdnNjb2RlLXJlbW90ZQ%3D%3D?line=53'>54</a>\u001b[0m     \u001b[39m'\u001b[39m\u001b[39mPROPAGATED\u001b[39m\u001b[39m'\u001b[39m: \u001b[39m2\u001b[39m\n\u001b[1;32m     <a href='vscode-notebook-cell://ssh-remote%2B7b22686f73744e616d65223a22416e746f6e696f732d5562756e74752e6c6f63616c227d/home/antonio/projects/gr/guided-research/visualizations/active_learning_sbmal.ipynb#W0sdnNjb2RlLXJlbW90ZQ%3D%3D?line=54'>55</a>\u001b[0m }\n\u001b[1;32m     <a href='vscode-notebook-cell://ssh-remote%2B7b22686f73744e616d65223a22416e746f6e696f732d5562756e74752e6c6f63616c227d/home/antonio/projects/gr/guided-research/visualizations/active_learning_sbmal.ipynb#W0sdnNjb2RlLXJlbW90ZQ%3D%3D?line=56'>57</a>\u001b[0m runs\u001b[39m.\u001b[39msort(key\u001b[39m=\u001b[39m\u001b[39mlambda\u001b[39;00m x: \n\u001b[0;32m---> <a href='vscode-notebook-cell://ssh-remote%2B7b22686f73744e616d65223a22416e746f6e696f732d5562756e74752e6c6f63616c227d/home/antonio/projects/gr/guided-research/visualizations/active_learning_sbmal.ipynb#W0sdnNjb2RlLXJlbW90ZQ%3D%3D?line=57'>58</a>\u001b[0m     keys[afterPoint(x\u001b[39m.\u001b[39;49mconfig[\u001b[39m\"\u001b[39;49m\u001b[39mexperiment/active_learning_selector\u001b[39;49m\u001b[39m\"\u001b[39;49m])] \u001b[39m+\u001b[39m keys2[afterPoint(x\u001b[39m.\u001b[39mconfig[\u001b[39m'\u001b[39m\u001b[39mexperiment/active_learning_selector_uncertainty_mode\u001b[39m\u001b[39m'\u001b[39m])] \u001b[39m+\u001b[39m keys3[afterPoint(x\u001b[39m.\u001b[39mconfig[\u001b[39m'\u001b[39m\u001b[39mexperiment/active_learning_selector_network_mode\u001b[39m\u001b[39m'\u001b[39m])]\n\u001b[1;32m     <a href='vscode-notebook-cell://ssh-remote%2B7b22686f73744e616d65223a22416e746f6e696f732d5562756e74752e6c6f63616c227d/home/antonio/projects/gr/guided-research/visualizations/active_learning_sbmal.ipynb#W0sdnNjb2RlLXJlbW90ZQ%3D%3D?line=58'>59</a>\u001b[0m )\n\u001b[1;32m     <a href='vscode-notebook-cell://ssh-remote%2B7b22686f73744e616d65223a22416e746f6e696f732d5562756e74752e6c6f63616c227d/home/antonio/projects/gr/guided-research/visualizations/active_learning_sbmal.ipynb#W0sdnNjb2RlLXJlbW90ZQ%3D%3D?line=60'>61</a>\u001b[0m \u001b[39mfor\u001b[39;00m run \u001b[39min\u001b[39;00m runs:\n\u001b[1;32m     <a href='vscode-notebook-cell://ssh-remote%2B7b22686f73744e616d65223a22416e746f6e696f732d5562756e74752e6c6f63616c227d/home/antonio/projects/gr/guided-research/visualizations/active_learning_sbmal.ipynb#W0sdnNjb2RlLXJlbW90ZQ%3D%3D?line=61'>62</a>\u001b[0m     accuracy \u001b[39m=\u001b[39m run\u001b[39m.\u001b[39msummary[\u001b[39m\"\u001b[39m\u001b[39mmean/eval/VALTEST/PROPAGATED/accuracy\u001b[39m\u001b[39m\"\u001b[39m]\u001b[39m*\u001b[39m\u001b[39m100\u001b[39m\n",
      "\u001b[0;31mKeyError\u001b[0m: 'FIXED'"
     ]
    }
   ],
   "source": [
    "import wandb\n",
    "import matplotlib.pyplot as plt\n",
    "import pandas as pd\n",
    "import numpy as np\n",
    "\n",
    "\"\"\"\n",
    "https://stackoverflow.com/questions/21654635/scatter-plots-in-pandas-pyplot-how-to-plot-by-category\n",
    "\"\"\"\n",
    "\n",
    "def afterPoint(str):\n",
    "    return str.split('.')[-1]\n",
    "\n",
    "\n",
    "\n",
    "tag = \"active_learning_sbmal_v2\"\n",
    "\n",
    "api = wandb.Api(timeout=200)\n",
    "runs = api.runs(\"tum_daml_ba_antoniooroz/Guided Research\", {\"tags\" : tag})\n",
    "\n",
    "runs_per_starting_class = {}\n",
    "\n",
    "for run in runs:\n",
    "    if run.config[\"debug\"] or run.config[\"model/type\"]!='ModelType.MCD_GCN':\n",
    "        continue\n",
    "    \n",
    "    \n",
    "    \n",
    "    starting_class = str(run.config[\"experiment/active_learning_starting_class\"])\n",
    "    \n",
    "    if starting_class in runs_per_starting_class:\n",
    "        runs_per_starting_class[starting_class].append(run)\n",
    "    else:\n",
    "        runs_per_starting_class[starting_class] = [run]\n",
    "        \n",
    "for key, runs in runs_per_starting_class.items():\n",
    "    accuracies = []\n",
    "    deviations = []\n",
    "    models = []\n",
    "    selectors = []\n",
    "    \n",
    "    keys = {\n",
    "        'L2_DISTANCE': 300,\n",
    "        'UNCERTAINTY': 100,\n",
    "        'RANDOM': 200\n",
    "    }\n",
    "    \n",
    "    keys2 = {\n",
    "        'ALEATORIC': 10,\n",
    "        'EPISTEMIC': 20\n",
    "    }\n",
    "    \n",
    "    keys3 = {\n",
    "        'ISOLATED': 1,\n",
    "        'PROPAGATED': 2\n",
    "    }\n",
    "    \n",
    "    runs.sort(key=lambda x: \n",
    "        keys[afterPoint(x.config[\"experiment/active_learning_selector\"])] + keys2[afterPoint(x.config['experiment/active_learning_selector_uncertainty_mode'])] + keys3[afterPoint(x.config['experiment/active_learning_selector_network_mode'])]\n",
    "    )\n",
    "    \n",
    "    for run in runs:\n",
    "        accuracy = run.summary[\"mean/eval/VALTEST/PROPAGATED/accuracy\"]*100\n",
    "        deviation = run.summary[\"std/eval/VALTEST/PROPAGATED/accuracy\"]*100\n",
    "        \n",
    "        model = afterPoint(run.config[\"model/type\"])\n",
    "        \n",
    "        if run.config['experiment/active_learning_l2_distance_use_centroids']==True and afterPoint(run.config['experiment/active_learning_selector'])=='L2_DISTANCE':\n",
    "            continue\n",
    "    \n",
    "        active_learning_selector = afterPoint(run.config[\"experiment/active_learning_selector\"])\n",
    "        if active_learning_selector == \"UNCERTAINTY\":\n",
    "            uncertainty_name = \"ALEA\" if afterPoint(run.config['experiment/active_learning_selector_uncertainty_mode']) == 'ALEATORIC' else 'EPIST'\n",
    "            prop_name = 'ISO' if afterPoint(run.config['experiment/active_learning_selector_network_mode']) == 'ISOLATED' else 'PROP'\n",
    "            active_learning_selector = f\"{uncertainty_name} {prop_name}\"\n",
    "\n",
    "        accuracies.append(accuracy)\n",
    "        deviations.append(deviation)\n",
    "        models.append(model)\n",
    "        selectors.append(active_learning_selector)\n",
    "        \n",
    "    df = pd.DataFrame(dict(x=selectors, y=accuracies, err=deviations, label=models))\n",
    "    groups = df.groupby('label')\n",
    "    \n",
    "    if str(key)!='[0]':\n",
    "        continue\n",
    "    \n",
    "    fig, ax = plt.subplots(figsize=(7, 3), dpi=1200)\n",
    "    ax.margins(0.05)\n",
    "    for name, group in groups:\n",
    "        ax.set_ylim([0.0, 0.8])\n",
    "        ax.errorbar(group.x, group.y, yerr=group.err, fmt='.k', ms=12, color='#003459', ecolor='#003459', label=name)\n",
    "        ax.yaxis.set_ticks(np.arange(0.0,85.0, 10))\n",
    "    ax.legend(numpoints=1)\n",
    "    print(key)\n",
    "    plt.title('MCD GCN')\n",
    "    plt.show()\n"
   ]
  }
 ],
 "metadata": {
  "kernelspec": {
   "display_name": "pgnn",
   "language": "python",
   "name": "python3"
  },
  "language_info": {
   "codemirror_mode": {
    "name": "ipython",
    "version": 3
   },
   "file_extension": ".py",
   "mimetype": "text/x-python",
   "name": "python",
   "nbconvert_exporter": "python",
   "pygments_lexer": "ipython3",
   "version": "3.9.12"
  },
  "orig_nbformat": 4,
  "vscode": {
   "interpreter": {
    "hash": "2c026586a894ca34e6947bb70c21b20b840229d93d9cfd35dee954d52407e756"
   }
  }
 },
 "nbformat": 4,
 "nbformat_minor": 2
}
