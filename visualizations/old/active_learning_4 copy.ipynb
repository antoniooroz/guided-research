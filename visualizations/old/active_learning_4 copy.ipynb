{
 "cells": [
  {
   "cell_type": "code",
   "execution_count": 6,
   "metadata": {},
   "outputs": [
    {
     "data": {
      "image/png": "[encoded data removed]",
      "text/plain": [
       "<Figure size 1008x504 with 1 Axes>"
      ]
     },
     "metadata": {
      "needs_background": "light"
     },
     "output_type": "display_data"
    }
   ],
   "source": [
    "import wandb\n",
    "import matplotlib.pyplot as plt\n",
    "import pandas as pd\n",
    "import numpy as np\n",
    "\n",
    "\"\"\"\n",
    "https://stackoverflow.com/questions/21654635/scatter-plots-in-pandas-pyplot-how-to-plot-by-category\n",
    "\"\"\"\n",
    "\n",
    "def afterPoint(str):\n",
    "    return str.split('.')[-1]\n",
    "\n",
    "\n",
    "\n",
    "tag = \"active_learning_cora_h4_v1\"\n",
    "starting_classes = [\n",
    "        [[0]],\n",
    "        [[0, 1, 2]],\n",
    "        [[0, 1, 2, 3, 4, 5]],\n",
    "        [[0, 1, 2, 3, 4, 5, 6]]\n",
    "    ]\n",
    "\n",
    "api = wandb.Api()\n",
    "runs = api.runs(\"tum_daml_ba_antoniooroz/GR2\", {\"tags\" : tag})\n",
    "\n",
    "runs_per_starting_class = {}\n",
    "\n",
    "for run in runs:\n",
    "    if run.config['model/type'] != 'ModelType.MCD_PPNP':\n",
    "        continue\n",
    "    \n",
    "    starting_class = str(run.config[\"experiment/active_learning_starting_class\"])\n",
    "    \n",
    "    if starting_class in runs_per_starting_class:\n",
    "        runs_per_starting_class[starting_class].append(run)\n",
    "    else:\n",
    "        runs_per_starting_class[starting_class] = [run]\n",
    "        \n",
    "for key, runs in runs_per_starting_class.items():\n",
    "    accuracies = []\n",
    "    deviations = []\n",
    "    models = []\n",
    "    selectors = []\n",
    "    \n",
    "    for run in runs:\n",
    "        accuracy = run.summary[\"mean/eval/TRAINING/PROPAGATED/datapoints_per_class_6\"]\n",
    "        deviation = run.summary[\"std/eval/TRAINING/PROPAGATED/datapoints_per_class_6\"]\n",
    "        \n",
    "        model = afterPoint(run.config[\"model/type\"])\n",
    "    \n",
    "        active_learning_selector = afterPoint(run.config[\"experiment/active_learning_selector\"])\n",
    "        if active_learning_selector == \"UNCERTAINTY\":\n",
    "            active_learning_selector = f\"{afterPoint(run.config['experiment/active_learning_selector_uncertainty_mode'])} {afterPoint(run.config['experiment/active_learning_selector_network_mode'])}\"\n",
    "\n",
    "        accuracies.append(accuracy)\n",
    "        deviations.append(deviation)\n",
    "        models.append(model)\n",
    "        selectors.append(active_learning_selector)\n",
    "        \n",
    "    df = pd.DataFrame(dict(x=selectors, y=accuracies, err=deviations, label=models))\n",
    "    groups = df.groupby('label')\n",
    "    \n",
    "    fig, ax = plt.subplots(figsize=(14, 7))\n",
    "    ax.margins(0.05)\n",
    "    for name, group in groups:\n",
    "        #ax.set_ylim([0, 1])\n",
    "        ax.errorbar(group.x, group.y, yerr=group.err, fmt='.k', ms=12, label=name)\n",
    "        #ax.yaxis.set_ticks(np.arange(0.0, 1.05, 0.05))\n",
    "    ax.legend(numpoints=1)\n",
    "    plt.title(key)\n",
    "    #plt.plot(df.x, df.y, linestyle='', ms=12, label=key)\n",
    "    plt.show()\n"
   ]
  }
 ],
 "metadata": {
  "kernelspec": {
   "display_name": "pgnn",
   "language": "python",
   "name": "python3"
  },
  "language_info": {
   "codemirror_mode": {
    "name": "ipython",
    "version": 3
   },
   "file_extension": ".py",
   "mimetype": "text/x-python",
   "name": "python",
   "nbconvert_exporter": "python",
   "pygments_lexer": "ipython3",
   "version": "3.9.12"
  },
  "orig_nbformat": 4,
  "vscode": {
   "interpreter": {
    "hash": "2c026586a894ca34e6947bb70c21b20b840229d93d9cfd35dee954d52407e756"
   }
  }
 },
 "nbformat": 4,
 "nbformat_minor": 2
}
