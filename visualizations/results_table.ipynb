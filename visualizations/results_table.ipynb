{
 "cells": [
  {
   "cell_type": "code",
   "execution_count": 11,
   "metadata": {},
   "outputs": [
    {
     "name": "stderr",
     "output_type": "stream",
     "text": [
      "\u001b[34m\u001b[1mwandb\u001b[0m:   1 of 1 files downloaded.  \n"
     ]
    },
    {
     "name": "stdout",
     "output_type": "stream",
     "text": [
      "1.0\n",
      "1.0\n",
      "0.3333333333333333\n",
      "1.0\n",
      "1.0\n",
      "1.0\n",
      "1.0\n",
      "1.0\n",
      "1.0\n",
      "1.0\n",
      "1.0\n",
      "1.0\n",
      "1.0\n",
      "1.0\n",
      "1.0\n",
      "1.0\n",
      "1.0\n",
      "1.0\n",
      "1.0\n",
      "1.0\n",
      "1.0\n",
      "1.0\n",
      "1.0\n",
      "1.0\n",
      "1.0\n",
      "1.0\n",
      "1.0\n",
      "1.0\n",
      "1.0\n",
      "1.0\n"
     ]
    }
   ],
   "source": [
    "import wandb\n",
    "import matplotlib.pyplot as plt\n",
    "import pandas as pd\n",
    "import numpy as np\n",
    "from math import floor, ceil, sqrt\n",
    "import urllib, json\n",
    "import os\n",
    "\n",
    "############### PARAMS ##################\n",
    "tag = \"active_learning_sbm_unbalanced_val0_al2.1_v0\"\n",
    "only_compare = ['FIXED [0]']\n",
    "#########################################\n",
    "\n",
    "file_name = \"run-2qm36xr2-results_table:v0\"\n",
    "\n",
    "wandb.login()\n",
    "\n",
    "api = wandb.Api(timeout=100)\n",
    "run = api.run('tum_daml_ba_antoniooroz/GR2/2qm36xr2')\n",
    "\n",
    "artifact = api.artifact(name=f'tum_daml_ba_antoniooroz/GR2/{file_name}')\n",
    "artifact.download()\n",
    "\n",
    "with open(f\"{os.getcwd()}/artifacts/{file_name}/results_table.table.json\") as f:\n",
    "    json_data = json.loads(f.read())\n",
    "    \n",
    "    columns = json_data['columns']\n",
    "    \n",
    "    data = json_data['data']\n",
    "    \n",
    "    column_index = columns.index('al/1600/VALTEST/PROPAGATED/accuracy')\n",
    "    \n",
    "    for row in data:\n",
    "        print(row[column_index])\n",
    "\n",
    "\n",
    "\n",
    "\n"
   ]
  }
 ],
 "metadata": {
  "kernelspec": {
   "display_name": "pgnn",
   "language": "python",
   "name": "python3"
  },
  "language_info": {
   "codemirror_mode": {
    "name": "ipython",
    "version": 3
   },
   "file_extension": ".py",
   "mimetype": "text/x-python",
   "name": "python",
   "nbconvert_exporter": "python",
   "pygments_lexer": "ipython3",
   "version": "3.9.12"
  },
  "orig_nbformat": 4,
  "vscode": {
   "interpreter": {
    "hash": "2c026586a894ca34e6947bb70c21b20b840229d93d9cfd35dee954d52407e756"
   }
  }
 },
 "nbformat": 4,
 "nbformat_minor": 2
}
